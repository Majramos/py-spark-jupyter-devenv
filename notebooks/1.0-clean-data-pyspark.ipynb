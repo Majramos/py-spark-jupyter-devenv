{
 "cells": [
  {
   "cell_type": "code",
   "execution_count": 1,
   "id": "97d8dce8-1f22-4fd1-a7e5-fae600280484",
   "metadata": {
    "tags": []
   },
   "outputs": [],
   "source": [
    "from pyspark.sql import SparkSession\n",
    "from pyspark.sql import functions as F"
   ]
  },
  {
   "cell_type": "code",
   "execution_count": 2,
   "id": "4b6ed5fb-28b2-4119-838f-e69bfcbd6678",
   "metadata": {
    "tags": []
   },
   "outputs": [
    {
     "name": "stderr",
     "output_type": "stream",
     "text": [
      "WARNING: An illegal reflective access operation has occurred\n",
      "WARNING: Illegal reflective access by org.apache.spark.unsafe.Platform (file:/opt/spark/jars/spark-unsafe_2.12-3.2.1.jar) to constructor java.nio.DirectByteBuffer(long,int)\n",
      "WARNING: Please consider reporting this to the maintainers of org.apache.spark.unsafe.Platform\n",
      "WARNING: Use --illegal-access=warn to enable warnings of further illegal reflective access operations\n",
      "WARNING: All illegal access operations will be denied in a future release\n",
      "Using Spark's default log4j profile: org/apache/spark/log4j-defaults.properties\n",
      "Setting default log level to \"WARN\".\n",
      "To adjust logging level use sc.setLogLevel(newLevel). For SparkR, use setLogLevel(newLevel).\n",
      "22/03/11 19:39:11 WARN NativeCodeLoader: Unable to load native-hadoop library for your platform... using builtin-java classes where applicable\n"
     ]
    }
   ],
   "source": [
    "spark = SparkSession.\\\n",
    "        builder.\\\n",
    "        appName(\"pyspark-notebook\").\\\n",
    "        master(\"spark://spark-master:7077\").\\\n",
    "        config(\"spark.executor.memory\", \"1024m\").\\\n",
    "        getOrCreate()"
   ]
  },
  {
   "cell_type": "markdown",
   "id": "23475804-b256-4f84-9b5e-afd2a20f5dac",
   "metadata": {},
   "source": [
    "# Clean Payments"
   ]
  },
  {
   "cell_type": "code",
   "execution_count": 3,
   "id": "af506664-db97-4f9d-b772-f828e6521748",
   "metadata": {
    "tags": []
   },
   "outputs": [
    {
     "name": "stderr",
     "output_type": "stream",
     "text": [
      "[Stage 1:>                                                          (0 + 1) / 1]\r"
     ]
    },
    {
     "name": "stdout",
     "output_type": "stream",
     "text": [
      "+------+--------+-------------------+--------+-------------+\n",
      "|siteid|ticketno|     ticketdatetime|moppayed|      moptext|\n",
      "+------+--------+-------------------+--------+-------------+\n",
      "| 12962|   29646|2021-06-09 19:32:46|   61.42|CARTÃO DÉBITO|\n",
      "| 12547|   10818|2021-06-09 08:11:11|   14.51|CARTÃO DÉBITO|\n",
      "| 14402|   33186|2021-06-09 23:19:31|     8.8|CARTÃO DÉBITO|\n",
      "| 16045|   59698|2021-06-09 15:37:57|    30.0|CARTÃO DÉBITO|\n",
      "| 11478|   52332|2021-06-09 11:58:32|    24.8|CARTÃO DÉBITO|\n",
      "| 12558|   68521|2021-06-09 13:05:07|     4.4|CARTÃO DÉBITO|\n",
      "| 11907|   29361|2021-06-09 08:42:34|    42.1|    GALPFROTA|\n",
      "| 15066|   62143|2021-06-09 05:16:49|     4.9|CARTÃO DÉBITO|\n",
      "| 11166|    4831|2021-06-09 21:18:12|    73.0|CARTÃO DÉBITO|\n",
      "| 12774|   72167|2021-06-09 08:10:54|    40.0|CARTÃO DÉBITO|\n",
      "| 61129|      36|2021-06-09 11:49:50|    50.0|CARTÃO DÉBITO|\n",
      "| 11377|   67639|2021-06-09 08:44:17|    15.0|CARTÃO DÉBITO|\n",
      "| 12347|   17574|2021-06-09 12:02:26|    1.44|CARTÃO DÉBITO|\n",
      "| 11774|   84828|2021-06-09 15:47:39|    30.0|CARTÃO DÉBITO|\n",
      "| 12513|   26825|2021-06-09 21:59:51|   49.89|CARTÃO DÉBITO|\n",
      "| 13500|   53109|2021-06-09 18:13:03|  113.52|CARTÃO DÉBITO|\n",
      "| 11774|   85237|2021-06-09 23:52:12|   20.11|CARTÃO DÉBITO|\n",
      "| 11718|   57861|2021-06-09 08:20:03|   11.24|CARTÃO DÉBITO|\n",
      "| 11682|   66014|2021-06-09 20:35:15|     4.5|CARTÃO DÉBITO|\n",
      "| 11752|   55084|2021-06-09 17:54:11|   44.08|CARTÃO DÉBITO|\n",
      "+------+--------+-------------------+--------+-------------+\n",
      "only showing top 20 rows\n",
      "\n"
     ]
    },
    {
     "name": "stderr",
     "output_type": "stream",
     "text": [
      "                                                                                \r"
     ]
    }
   ],
   "source": [
    "payments = spark.read.parquet('payments')\n",
    "payments.show()"
   ]
  },
  {
   "cell_type": "code",
   "execution_count": 4,
   "id": "bef9b120-ce32-49e8-80f5-0f179e4ac83e",
   "metadata": {
    "tags": []
   },
   "outputs": [
    {
     "name": "stdout",
     "output_type": "stream",
     "text": [
      "root\n",
      " |-- siteid: string (nullable = true)\n",
      " |-- ticketno: long (nullable = true)\n",
      " |-- ticketdatetime: timestamp (nullable = true)\n",
      " |-- moppayed: double (nullable = true)\n",
      " |-- moptext: string (nullable = true)\n",
      "\n"
     ]
    }
   ],
   "source": [
    "payments.printSchema()"
   ]
  },
  {
   "cell_type": "code",
   "execution_count": 5,
   "id": "df8b9aef-5687-4a2d-858b-9a5802f5166b",
   "metadata": {},
   "outputs": [
    {
     "name": "stderr",
     "output_type": "stream",
     "text": [
      "                                                                                \r"
     ]
    },
    {
     "data": {
      "text/plain": [
       "9665370"
      ]
     },
     "execution_count": 5,
     "metadata": {},
     "output_type": "execute_result"
    }
   ],
   "source": [
    "payments.count()"
   ]
  },
  {
   "cell_type": "code",
   "execution_count": 22,
   "id": "8a117bdb-fa33-49cb-9018-5fe19cbc8fcc",
   "metadata": {},
   "outputs": [
    {
     "name": "stderr",
     "output_type": "stream",
     "text": [
      "[Stage 28:===================================================>     (9 + 1) / 10]\r"
     ]
    },
    {
     "name": "stdout",
     "output_type": "stream",
     "text": [
      "+------+--------+-------------------+--------+-------------+\n",
      "|siteid|ticketno|     ticketdatetime|moppayed|      moptext|\n",
      "+------+--------+-------------------+--------+-------------+\n",
      "|  null|   66828|2021-07-02 06:50:26|    19.5|       CHEQUE|\n",
      "|  null|   47293|2021-06-18 19:19:14|    30.0|    NUMERÁRIO|\n",
      "|  null|     718|2022-02-20 07:20:56|    25.0|CARTAO DEBITO|\n",
      "|  null|   62265|2021-07-20 14:56:04|     4.3|    NUMERÁRIO|\n",
      "+------+--------+-------------------+--------+-------------+\n",
      "\n"
     ]
    },
    {
     "name": "stderr",
     "output_type": "stream",
     "text": [
      "                                                                                \r"
     ]
    }
   ],
   "source": [
    "payments.filter('siteid is NULL').show()"
   ]
  },
  {
   "cell_type": "code",
   "execution_count": 23,
   "id": "7e312c24-d118-4a03-8738-b94214f32b44",
   "metadata": {},
   "outputs": [
    {
     "name": "stdout",
     "output_type": "stream",
     "text": [
      "+------+\n",
      "|siteid|\n",
      "+------+\n",
      "| 12962|\n",
      "| 12547|\n",
      "| 14402|\n",
      "| 16045|\n",
      "| 11478|\n",
      "| 12558|\n",
      "| 11907|\n",
      "| 15066|\n",
      "| 11166|\n",
      "| 12774|\n",
      "| 61129|\n",
      "| 11377|\n",
      "| 12347|\n",
      "| 11774|\n",
      "| 12513|\n",
      "| 13500|\n",
      "| 11774|\n",
      "| 11718|\n",
      "| 11682|\n",
      "| 11752|\n",
      "+------+\n",
      "only showing top 20 rows\n",
      "\n"
     ]
    }
   ],
   "source": [
    "payments.selectExpr(\"cast(siteid as int) siteid\").show()"
   ]
  },
  {
   "cell_type": "code",
   "execution_count": 6,
   "id": "44bb61a2-de0d-42d8-ae26-a3bcc6f5b046",
   "metadata": {
    "tags": []
   },
   "outputs": [
    {
     "name": "stderr",
     "output_type": "stream",
     "text": [
      "[Stage 7:>                                                          (0 + 1) / 1]\r"
     ]
    },
    {
     "name": "stdout",
     "output_type": "stream",
     "text": [
      "+------+-------------------+--------+-----------+\n",
      "|siteid|     ticketdatetime|moppayed|    moptext|\n",
      "+------+-------------------+--------+-----------+\n",
      "| 11015|2021-06-01 10:44:19|    30.0|[NUMERÁRIO]|\n",
      "| 11015|2021-06-01 12:31:48|    45.0|[NUMERÁRIO]|\n",
      "| 11015|2021-06-01 12:40:59|   87.71|[GALPFROTA]|\n",
      "| 11015|2021-06-01 16:45:46|   67.97|[GALPFROTA]|\n",
      "| 11015|2021-06-02 09:06:46|   57.76|[GALPFROTA]|\n",
      "| 11015|2021-06-02 09:25:13|  110.09|[NUMERÁRIO]|\n",
      "| 11015|2021-06-02 09:36:49|    15.0|[NUMERÁRIO]|\n",
      "| 11015|2021-06-02 20:46:21|    10.0|[NUMERÁRIO]|\n",
      "| 11015|2021-06-02 20:50:27|    15.0|[NUMERÁRIO]|\n",
      "| 11015|2021-06-03 08:38:59|    30.0|[NUMERÁRIO]|\n",
      "| 11015|2021-06-03 13:20:09|   16.89|[NUMERÁRIO]|\n",
      "| 11015|2021-06-03 14:37:23|   47.66|[NUMERÁRIO]|\n",
      "| 11015|2021-06-03 17:39:25|    57.6|[NUMERÁRIO]|\n",
      "| 11015|2021-06-04 15:37:29|   28.93|[NUMERÁRIO]|\n",
      "| 11015|2021-06-04 18:09:52|   63.29|[NUMERÁRIO]|\n",
      "| 11015|2021-06-04 19:11:55|    20.0|[NUMERÁRIO]|\n",
      "| 11015|2021-06-04 19:38:16|    10.0|[NUMERÁRIO]|\n",
      "| 11015|2021-06-04 19:42:50|    10.0|[NUMERÁRIO]|\n",
      "| 11015|2021-06-04 20:09:43|    10.0|[NUMERÁRIO]|\n",
      "| 11015|2021-06-05 00:11:03|     5.0|[NUMERÁRIO]|\n",
      "+------+-------------------+--------+-----------+\n",
      "only showing top 20 rows\n",
      "\n"
     ]
    },
    {
     "name": "stderr",
     "output_type": "stream",
     "text": [
      "                                                                                \r"
     ]
    }
   ],
   "source": [
    "calc = (\n",
    "    payments\n",
    "        .groupBy('siteid', 'ticketdatetime')\n",
    "        .agg(\n",
    "            F.sum('moppayed').alias('moppayed'),\n",
    "            F.collect_set('moptext').alias('moptext')\n",
    "        )\n",
    ")\n",
    "calc.show()"
   ]
  },
  {
   "cell_type": "code",
   "execution_count": 16,
   "id": "0c025fd8-223a-48fa-a4ed-1a30dddf299f",
   "metadata": {},
   "outputs": [
    {
     "name": "stderr",
     "output_type": "stream",
     "text": [
      "                                                                                \r"
     ]
    },
    {
     "data": {
      "text/plain": [
       "[Row(moptext=['CHEQUE', 'NUMERÁRIO', 'CARTÃO DÉBITO']),\n",
       " Row(moptext=['VENDING TABACO']),\n",
       " Row(moptext=['PARCERIA UBER']),\n",
       " Row(moptext=['VALES', 'NUMERÁRIO']),\n",
       " Row(moptext=['CARTÃO CONTINENTE', 'NUMERÁRIO', 'CARTÃO DÉBITO']),\n",
       " Row(moptext=['NUMER┴RIO']),\n",
       " Row(moptext=['CHEQUE', 'NUMERÁRIO']),\n",
       " Row(moptext=['VALES', 'NUMERARIO']),\n",
       " Row(moptext=['CHEQUE']),\n",
       " Row(moptext=['NUMERARIO', 'CARTAO CONTINENTE']),\n",
       " Row(moptext=['CARTAO DEBITO', 'VALES']),\n",
       " Row(moptext=['GALPFROTA', 'DRIVE-OFF']),\n",
       " Row(moptext=['CARTÃO DÉBITO']),\n",
       " Row(moptext=['PARCERIA G']),\n",
       " Row(moptext=['PARCERIA B']),\n",
       " Row(moptext=['VISA - MANUAL', 'CARTÃO DÉBITO']),\n",
       " Row(moptext=['DIF-MOP-REC\\\\VND', 'TICKET CAR', 'CARTÃO DÉBITO']),\n",
       " Row(moptext=['GALPFROTA', 'PARCERIA G']),\n",
       " Row(moptext=['REGULARIZAÇÃO GALPFROTA']),\n",
       " Row(moptext=['GALPFROTA', 'DIF-MOP-REC\\\\VND', 'CARTÃO DÉBITO']),\n",
       " Row(moptext=['DIF-MOP-REC\\\\VND', 'NUMERARIO']),\n",
       " Row(moptext=['CARTÃO CONTINENTE', 'DIF-MOP-REC\\\\VND']),\n",
       " Row(moptext=['NUMER┴RIO', 'CART├O D╔BITO']),\n",
       " Row(moptext=['CONSUMO INTERNO']),\n",
       " Row(moptext=['GALPFROTA', 'NUMER┴RIO']),\n",
       " Row(moptext=['DIF-MOP-REC\\\\VND', 'CART├O D╔BITO']),\n",
       " Row(moptext=['CONSUMO INTERNO', 'NUMERÁRIO']),\n",
       " Row(moptext=['NUMERÁRIO', 'DRIVE-OFF']),\n",
       " Row(moptext=['GALPFROTA', 'CARTÃO DÉBITO']),\n",
       " Row(moptext=['GALPFROTA', 'CHEQUE']),\n",
       " Row(moptext=['GALPFROTA', 'CARTAO DEBITO']),\n",
       " Row(moptext=['CARTÃO DÉBITO', 'PARCERIA UBER']),\n",
       " Row(moptext=['GALPFROTA PROD./SERVIÇOS', 'CARTÃO DÉBITO']),\n",
       " Row(moptext=['GARANTIDAS', 'NUMERÁRIO']),\n",
       " Row(moptext=['CARTAO DEBITO', 'NUMERARIO']),\n",
       " Row(moptext=['DRIVE-OFF', 'CARTÃO DÉBITO']),\n",
       " Row(moptext=['PARCERIA G', 'CARTÃO DÉBITO']),\n",
       " Row(moptext=['TICKET RESTAURANTE']),\n",
       " Row(moptext=['GALPFROTA', 'CART├O D╔BITO']),\n",
       " Row(moptext=['VISA LOJA - MANUAL', 'CARTÃO DÉBITO']),\n",
       " Row(moptext=['NUMER┴RIO', 'CART├O CONTINENTE']),\n",
       " Row(moptext=['CHEQUE', 'CARTAO CONTINENTE']),\n",
       " Row(moptext=['GALPFROTA', 'NUMERÁRIO']),\n",
       " Row(moptext=['GALPFROTA', 'NUMERÁRIO', 'GALPFROTA PROD./SERVIÇOS']),\n",
       " Row(moptext=['CONSUMO INTERNO', 'CARTÃO DÉBITO']),\n",
       " Row(moptext=['TICKET CAR']),\n",
       " Row(moptext=['DIF-MOP-REC\\\\VND']),\n",
       " Row(moptext=['GALPFROTA', 'NUMERARIO']),\n",
       " Row(moptext=['CARTAO CONTINENTE']),\n",
       " Row(moptext=['CARTÃO CONTINENTE', 'GALPFROTA', 'CARTÃO DÉBITO']),\n",
       " Row(moptext=['CARTÃO CONTINENTE', 'DIF-MOP-REC\\\\VND', 'CARTÃO DÉBITO']),\n",
       " Row(moptext=['CARTÃO CONTINENTE', 'TICKET CAR']),\n",
       " Row(moptext=['GALP READY']),\n",
       " Row(moptext=['VOUCHERS']),\n",
       " Row(moptext=['CARTÃO CONTINENTE', 'CHEQUE', 'CARTÃO DÉBITO']),\n",
       " Row(moptext=['GALPFROTA', 'DIF-MOP-REC\\\\VND', 'NUMERÁRIO']),\n",
       " Row(moptext=['NUMERÁRIO', 'PARCERIA UBER']),\n",
       " Row(moptext=['DIF-MOP-REC\\\\VND', 'NUMER┴RIO']),\n",
       " Row(moptext=['GALPFROTA', 'DIF-MOP-REC\\\\VND']),\n",
       " Row(moptext=['PARCERIA G', 'NUMERÁRIO']),\n",
       " Row(moptext=['GALPFROTA']),\n",
       " Row(moptext=['VENDING CAFÉ']),\n",
       " Row(moptext=['GALPFROTA', 'GALPFROTA PROD./SERVIÇOS', 'CARTÃO DÉBITO']),\n",
       " Row(moptext=['TICKET LAVAGEM']),\n",
       " Row(moptext=['GARANTIDAS', 'CARTAO DEBITO']),\n",
       " Row(moptext=['VISA LOJA - MANUAL']),\n",
       " Row(moptext=['CARTÃO CONTINENTE', 'CHEQUE']),\n",
       " Row(moptext=['NUMERÁRIO', 'GALPFROTA PROD./SERVIÇOS']),\n",
       " Row(moptext=['CLICK AND COLLECT']),\n",
       " Row(moptext=['TICKET CAR', 'NUMERÁRIO']),\n",
       " Row(moptext=['NUMERÁRIO']),\n",
       " Row(moptext=['VISA - MANUAL', 'CARTÃO CONTINENTE']),\n",
       " Row(moptext=['TICKET RESTAURANTE', 'CARTÃO DÉBITO']),\n",
       " Row(moptext=['CHEQUE', 'NUMERARIO']),\n",
       " Row(moptext=['CARTÃO CONTINENTE', 'NUMERÁRIO']),\n",
       " Row(moptext=['VALES']),\n",
       " Row(moptext=['GALPFROTA PROD./SERVICOS', 'GALPFROTA']),\n",
       " Row(moptext=['VISA - MANUAL', 'TICKET CAR']),\n",
       " Row(moptext=['DIF-MOP-REC\\\\VND', 'TICKET CAR']),\n",
       " Row(moptext=['CHEQUE', 'CARTÃO DÉBITO']),\n",
       " Row(moptext=['CART├O D╔BITO']),\n",
       " Row(moptext=['DIF-MOP-REC\\\\VND', 'NUMERÁRIO', 'CARTÃO DÉBITO']),\n",
       " Row(moptext=['CARTAO DEBITO', 'TICKET CAR']),\n",
       " Row(moptext=['TICKET RESTAURANTE', 'NUMERÁRIO']),\n",
       " Row(moptext=['NUMERARIO']),\n",
       " Row(moptext=['DIF-MOP-REC\\\\VND', 'NUMERÁRIO']),\n",
       " Row(moptext=['VISA - MANUAL', 'NUMERÁRIO']),\n",
       " Row(moptext=['CARTAO DEBITO', 'CARTAO CONTINENTE']),\n",
       " Row(moptext=['CARTAO DEBITO', 'NUMERARIO', 'CARTAO CONTINENTE']),\n",
       " Row(moptext=['CARTÃO CONTINENTE', 'CARTÃO DÉBITO']),\n",
       " Row(moptext=['CARTAO DEBITO']),\n",
       " Row(moptext=['CARTÃO UNIVERSO']),\n",
       " Row(moptext=['TICKET CAR', 'NUMERÁRIO', 'CARTÃO DÉBITO']),\n",
       " Row(moptext=['GALPFROTA', 'PARCERIA UBER']),\n",
       " Row(moptext=['GALPFROTA', 'GALPFROTA PROD./SERVIÇOS']),\n",
       " Row(moptext=['GALPFROTA PROD./SERVIÇOS']),\n",
       " Row(moptext=['DIF-MOP-REC\\\\VND', 'CHEQUE']),\n",
       " Row(moptext=['CARTÃO CONTINENTE']),\n",
       " Row(moptext=['GALPFROTA', 'TICKET CAR']),\n",
       " Row(moptext=['DIF-MOP-REC\\\\VND', 'CHEQUE', 'NUMERÁRIO']),\n",
       " Row(moptext=['GARANTIDAS']),\n",
       " Row(moptext=['VALES', 'CARTÃO DÉBITO']),\n",
       " Row(moptext=['VISA - MANUAL']),\n",
       " Row(moptext=['CONSUMO INTERNO', 'GALPFROTA']),\n",
       " Row(moptext=['NUMERÁRIO', 'CARTÃO DÉBITO']),\n",
       " Row(moptext=['GALPFROTA', 'NUMERÁRIO', 'CARTÃO DÉBITO']),\n",
       " Row(moptext=['DRIVE-OFF']),\n",
       " Row(moptext=['GALPFROTA PROD./SERVICOS']),\n",
       " Row(moptext=['VISA - MANUAL', 'GALPFROTA']),\n",
       " Row(moptext=['DIF-MOP-REC\\\\VND', 'CARTAO DEBITO']),\n",
       " Row(moptext=['TICKET CAR', 'CARTÃO DÉBITO']),\n",
       " Row(moptext=['DIF-MOP-REC\\\\VND', 'CARTÃO DÉBITO']),\n",
       " Row(moptext=['CARTAO DEBITO', 'PARCERIA UBER']),\n",
       " Row(moptext=['TICKET CAR', 'NUMERARIO']),\n",
       " Row(moptext=['CHEQUE', 'TICKET CAR']),\n",
       " Row(moptext=['NUMERÁRIO', 'CARTÃO DÉBITO', 'PARCERIA UBER']),\n",
       " Row(moptext=['GARANTIDAS', 'CARTÃO CONTINENTE']),\n",
       " Row(moptext=['GARANTIDAS', 'NUMERARIO']),\n",
       " Row(moptext=['CARTÃO CONTINENTE', 'GALPFROTA', 'NUMERÁRIO']),\n",
       " Row(moptext=['CART├O D╔BITO', 'CART├O CONTINENTE']),\n",
       " Row(moptext=['GALPFROTA PROD./SERVIÃOS']),\n",
       " Row(moptext=['TICKET CAR', 'VALES']),\n",
       " Row(moptext=['DESCONTO CARTÃO CONTINEN', 'NUMERÁRIO']),\n",
       " Row(moptext=['GALPFROTA', 'VALES']),\n",
       " Row(moptext=['GALPFROTA', 'CARTAO DEBITO', 'NUMERARIO']),\n",
       " Row(moptext=['GALPFROTA PROD./SERVIÃOS', 'GALPFROTA']),\n",
       " Row(moptext=['TICKET RESTAURANTE', 'NUMERARIO']),\n",
       " Row(moptext=['GARANTIDAS', 'GALPFROTA']),\n",
       " Row(moptext=['CARTÃO CONTINENTE', 'DIF-MOP-REC\\\\VND', 'NUMERÁRIO']),\n",
       " Row(moptext=['GALPFROTA', 'DIF-MOP-REC\\\\VND', 'NUMERARIO']),\n",
       " Row(moptext=['NUMERARIO', 'PARCERIA UBER']),\n",
       " Row(moptext=['ERROS PINPAD']),\n",
       " Row(moptext=['VISA - MANUAL', 'NUMERÁRIO', 'CARTÃO DÉBITO']),\n",
       " Row(moptext=['TICKET LAVAGEM', 'VALES']),\n",
       " Row(moptext=['TICKET LAVAGEM', 'NUMERÁRIO']),\n",
       " Row(moptext=['DIF-MOP-REC\\\\VND', 'CARTAO DEBITO', 'NUMERARIO']),\n",
       " Row(moptext=['GALPFROTA', 'CHEQUE', 'CARTÃO DÉBITO']),\n",
       " Row(moptext=['GALPFROTA PROD./SERVICOS', 'GALPFROTA', 'CARTAO DEBITO']),\n",
       " Row(moptext=['GARANTIDAS', 'CARTÃO DÉBITO']),\n",
       " Row(moptext=['DIF-MOP-REC\\\\VND', 'CARTÃO DÉBITO', 'PARCERIA UBER']),\n",
       " Row(moptext=['DIF-MOP-REC\\\\VND', 'TICKET CAR', 'NUMERÁRIO']),\n",
       " Row(moptext=['DIF-MOP-REC\\\\VND', 'PARCERIA UBER']),\n",
       " Row(moptext=['TICKET CAR', 'VALES', 'CARTÃO DÉBITO']),\n",
       " Row(moptext=['CARTÃO CONTINENTE', 'GALPFROTA']),\n",
       " Row(moptext=['CONSUMO INTERNO', 'GALPFROTA', 'NUMERÁRIO']),\n",
       " Row(moptext=['GALP READY', 'NUMERÁRIO']),\n",
       " Row(moptext=['DIF-MOP-REC\\\\VND', 'NUMER┴RIO', 'CART├O D╔BITO']),\n",
       " Row(moptext=['CARTAO DEBITO', 'PARCERIA G']),\n",
       " Row(moptext=['VALES', 'NUMERÁRIO', 'CARTÃO DÉBITO']),\n",
       " Row(moptext=['GARANTIDAS', 'DIF-MOP-REC\\\\VND']),\n",
       " Row(moptext=['GALPFROTA', 'CARTAO DEBITO', 'CARTAO CONTINENTE']),\n",
       " Row(moptext=['CARTÃO UNIVERSO', 'CARTÃO DÉBITO']),\n",
       " Row(moptext=['GALPFROTA', 'DIF-MOP-REC\\\\VND', 'NUMERÁRIO', 'CARTÃO DÉBITO']),\n",
       " Row(moptext=['CART├O CONTINENTE']),\n",
       " Row(moptext=['GALPFROTA PROD./SERVICOS', 'NUMERARIO']),\n",
       " Row(moptext=['DIF-MOP-REC\\\\VND', 'VALES']),\n",
       " Row(moptext=['CHEQUE', 'CART├O D╔BITO']),\n",
       " Row(moptext=['GALP READY', 'CARTÃO DÉBITO']),\n",
       " Row(moptext=['DIF-MOP-REC\\\\VND', 'CARTAO DEBITO', 'CARTAO CONTINENTE']),\n",
       " Row(moptext=['GARANTIDAS', 'DIF-MOP-REC\\\\VND', 'NUMERÁRIO']),\n",
       " Row(moptext=['CONSUMO INTERNO', 'NUMERARIO']),\n",
       " Row(moptext=['GALPFROTA PROD./SERVICOS', 'CARTAO DEBITO']),\n",
       " Row(moptext=['CONSUMO INTERNO', 'CARTAO DEBITO']),\n",
       " Row(moptext=['NUMER┴RIO', 'TICKET CAR']),\n",
       " Row(moptext=['GALP READY', 'DIF-MOP-REC\\\\VND']),\n",
       " Row(moptext=['CARTÃO CONTINENTE', 'CHEQUE', 'NUMERÁRIO']),\n",
       " Row(moptext=['GALPFROTA', 'TICKET CAR', 'CARTÃO DÉBITO']),\n",
       " Row(moptext=['VISA - MANUAL', 'CARTÃO CONTINENTE', 'CARTÃO DÉBITO']),\n",
       " Row(moptext=['TICKET RESTAURANTE', 'VALES']),\n",
       " Row(moptext=['VISA - MANUAL', 'CHEQUE']),\n",
       " Row(moptext=['GARANTIDAS', 'NUMERÁRIO', 'CARTÃO DÉBITO']),\n",
       " Row(moptext=['NUMER┴RIO', 'VALES']),\n",
       " Row(moptext=['PARCERIA B', 'NUMERÁRIO']),\n",
       " Row(moptext=['CARTÃO CONTINENTE', 'TICKET CAR', 'NUMERÁRIO']),\n",
       " Row(moptext=['CARTÃO CONTINENTE', 'CARTÃO DÉBITO', 'PARCERIA UBER']),\n",
       " Row(moptext=['NUMER┴RIO', 'CHEQUE']),\n",
       " Row(moptext=['DIF-MOP-REC\\\\VND', 'NUMERARIO', 'CARTAO CONTINENTE']),\n",
       " Row(moptext=['CARTÃO CONTINENTE', 'NUMERÁRIO', 'GALPFROTA PROD./SERVIÇOS']),\n",
       " Row(moptext=['GALPFROTA', 'TICKET CAR', 'NUMERÁRIO']),\n",
       " Row(moptext=['VENDING CAFÉ', 'CARTÃO DÉBITO']),\n",
       " Row(moptext=['CHEQUE', 'CARTAO DEBITO']),\n",
       " Row(moptext=['CARTÃO CONTINENTE', 'TICKET CAR', 'CARTÃO DÉBITO']),\n",
       " Row(moptext=['GALPFROTA', 'DIF-MOP-REC\\\\VND', 'TICKET CAR']),\n",
       " Row(moptext=['TICKET RESTAURANTE', 'CARTAO DEBITO']),\n",
       " Row(moptext=['CART├O D╔BITO', 'VALES']),\n",
       " Row(moptext=['VOUCHERS', 'CARTÃO DÉBITO']),\n",
       " Row(moptext=['TICKET LAVAGEM', 'NUMERARIO']),\n",
       " Row(moptext=['PARCERIA B', 'CARTÃO DÉBITO']),\n",
       " Row(moptext=['TICKET RESTAURANTE', 'TICKET CAR', 'NUMERÁRIO'])]"
      ]
     },
     "execution_count": 16,
     "metadata": {},
     "output_type": "execute_result"
    }
   ],
   "source": [
    "calc.select('moptext').distinct().collect()"
   ]
  },
  {
   "cell_type": "raw",
   "id": "609cd2fc-75aa-4889-a3a1-227ad88ef7bc",
   "metadata": {
    "execution": {
     "iopub.execute_input": "2022-03-04T15:35:29.762804Z",
     "iopub.status.busy": "2022-03-04T15:35:29.762804Z",
     "iopub.status.idle": "2022-03-04T15:37:33.318320Z",
     "shell.execute_reply": "2022-03-04T15:37:33.315322Z",
     "shell.execute_reply.started": "2022-03-04T15:35:29.762804Z"
    },
    "tags": []
   },
   "source": [
    "payments = (\n",
    "    pd.read_parquet(dt.DATA/'payments')\n",
    "        .query('not siteid.isnull()')  # alguns postos sem ids\n",
    "        .astype({'siteid': 'Int32', 'ticketno': 'Int32', 'moptext': 'string'})\n",
    "        .reset_index(drop=True)\n",
    "        .assign(\n",
    "            moptext=lambda x: x['moptext'].str.strip().str.normalize('NFKD').str.encode('ascii', errors='ignore').str.decode('utf-8'),\n",
    "            # ticketdatetime=lambda x: x['ticketdatetime'].dt.strftime(date_format='%Y%m%d%H%M%S')\n",
    "        )\n",
    ")\n",
    "payments.head()"
   ]
  }
 ],
 "metadata": {
  "kernelspec": {
   "display_name": "Python 3 (ipykernel)",
   "language": "python",
   "name": "python3"
  },
  "language_info": {
   "codemirror_mode": {
    "name": "ipython",
    "version": 3
   },
   "file_extension": ".py",
   "mimetype": "text/x-python",
   "name": "python",
   "nbconvert_exporter": "python",
   "pygments_lexer": "ipython3",
   "version": "3.9.2"
  }
 },
 "nbformat": 4,
 "nbformat_minor": 5
}
